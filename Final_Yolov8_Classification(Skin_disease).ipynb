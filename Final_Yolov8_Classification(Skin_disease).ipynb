{
  "nbformat": 4,
  "nbformat_minor": 0,
  "metadata": {
    "colab": {
      "provenance": [],
      "gpuType": "T4",
      "authorship_tag": "ABX9TyOzn7jhQK6RezFmARU1CJfL",
      "include_colab_link": true
    },
    "kernelspec": {
      "name": "python3",
      "display_name": "Python 3"
    },
    "language_info": {
      "name": "python"
    },
    "accelerator": "GPU"
  },
  "cells": [
    {
      "cell_type": "markdown",
      "metadata": {
        "id": "view-in-github",
        "colab_type": "text"
      },
      "source": [
        "<a href=\"https://colab.research.google.com/github/NID123-CH/Machine-Learning-and-Neural-Network/blob/Neural-Network/Final_Yolov8_Classification(Skin_disease).ipynb\" target=\"_parent\"><img src=\"https://colab.research.google.com/assets/colab-badge.svg\" alt=\"Open In Colab\"/></a>"
      ]
    },
    {
      "cell_type": "code",
      "execution_count": 1,
      "metadata": {
        "colab": {
          "base_uri": "https://localhost:8080/"
        },
        "id": "a3Hl2CGrJR0o",
        "outputId": "8272ccc9-064d-483b-96cc-1c1547ae9534"
      },
      "outputs": [
        {
          "output_type": "stream",
          "name": "stdout",
          "text": [
            "Sat Jun 10 17:37:07 2023       \n",
            "+-----------------------------------------------------------------------------+\n",
            "| NVIDIA-SMI 525.85.12    Driver Version: 525.85.12    CUDA Version: 12.0     |\n",
            "|-------------------------------+----------------------+----------------------+\n",
            "| GPU  Name        Persistence-M| Bus-Id        Disp.A | Volatile Uncorr. ECC |\n",
            "| Fan  Temp  Perf  Pwr:Usage/Cap|         Memory-Usage | GPU-Util  Compute M. |\n",
            "|                               |                      |               MIG M. |\n",
            "|===============================+======================+======================|\n",
            "|   0  Tesla T4            Off  | 00000000:00:04.0 Off |                    0 |\n",
            "| N/A   40C    P8     9W /  70W |      0MiB / 15360MiB |      0%      Default |\n",
            "|                               |                      |                  N/A |\n",
            "+-------------------------------+----------------------+----------------------+\n",
            "                                                                               \n",
            "+-----------------------------------------------------------------------------+\n",
            "| Processes:                                                                  |\n",
            "|  GPU   GI   CI        PID   Type   Process name                  GPU Memory |\n",
            "|        ID   ID                                                   Usage      |\n",
            "|=============================================================================|\n",
            "|  No running processes found                                                 |\n",
            "+-----------------------------------------------------------------------------+\n"
          ]
        }
      ],
      "source": [
        "!nvidia-smi"
      ]
    },
    {
      "cell_type": "code",
      "source": [
        "import os\n",
        "HOME = os.getcwd()\n",
        "print(HOME)"
      ],
      "metadata": {
        "colab": {
          "base_uri": "https://localhost:8080/"
        },
        "id": "UqLtbAFBPGz2",
        "outputId": "fcd0d2b9-14a1-441e-b136-5389a9d736f5"
      },
      "execution_count": 2,
      "outputs": [
        {
          "output_type": "stream",
          "name": "stdout",
          "text": [
            "/content\n"
          ]
        }
      ]
    },
    {
      "cell_type": "code",
      "source": [
        "# Pip install method (recommended)\n",
        "\n",
        "!pip install ultralytics==8.0.20\n",
        "\n",
        "from IPython import display\n",
        "display.clear_output()\n",
        "\n",
        "import ultralytics\n",
        "ultralytics.checks()"
      ],
      "metadata": {
        "colab": {
          "base_uri": "https://localhost:8080/"
        },
        "id": "MzaPzKV9PVIU",
        "outputId": "3b6f9f20-ffcb-4718-87d1-d07f333b1ca4"
      },
      "execution_count": 3,
      "outputs": [
        {
          "output_type": "stream",
          "name": "stderr",
          "text": [
            "Ultralytics YOLOv8.0.20 🚀 Python-3.10.12 torch-2.0.1+cu118 CUDA:0 (Tesla T4, 15102MiB)\n",
            "Setup complete ✅ (2 CPUs, 12.7 GB RAM, 23.4/78.2 GB disk)\n"
          ]
        }
      ]
    },
    {
      "cell_type": "code",
      "source": [
        "from ultralytics import YOLO\n",
        "\n",
        "from IPython.display import display, Image"
      ],
      "metadata": {
        "id": "wihpYgViPhl7"
      },
      "execution_count": 4,
      "outputs": []
    },
    {
      "cell_type": "code",
      "source": [
        "!mkdir {HOME}/datasets\n",
        "%cd {HOME}/datasets\n",
        "\n",
        "!pip install roboflow\n",
        "\n",
        "from roboflow import Roboflow\n",
        "rf = Roboflow(api_key=\"5zpTfgCyK9ZorPN4aOGf\")\n",
        "project = rf.workspace(\"denise-manalo\").project(\"skin-disease-9nagn\")\n",
        "dataset = project.version(1).download(\"folder\")"
      ],
      "metadata": {
        "colab": {
          "base_uri": "https://localhost:8080/"
        },
        "id": "-IY41CWVPv-b",
        "outputId": "070a04e8-63b7-4f73-968c-9db4ff05803a"
      },
      "execution_count": 16,
      "outputs": [
        {
          "output_type": "stream",
          "name": "stdout",
          "text": [
            "mkdir: cannot create directory ‘/content/datasets’: File exists\n",
            "/content/datasets\n",
            "Looking in indexes: https://pypi.org/simple, https://us-python.pkg.dev/colab-wheels/public/simple/\n",
            "Requirement already satisfied: roboflow in /usr/local/lib/python3.10/dist-packages (1.0.9)\n",
            "Requirement already satisfied: certifi==2022.12.7 in /usr/local/lib/python3.10/dist-packages (from roboflow) (2022.12.7)\n",
            "Requirement already satisfied: chardet==4.0.0 in /usr/local/lib/python3.10/dist-packages (from roboflow) (4.0.0)\n",
            "Requirement already satisfied: cycler==0.10.0 in /usr/local/lib/python3.10/dist-packages (from roboflow) (0.10.0)\n",
            "Requirement already satisfied: idna==2.10 in /usr/local/lib/python3.10/dist-packages (from roboflow) (2.10)\n",
            "Requirement already satisfied: kiwisolver>=1.3.1 in /usr/local/lib/python3.10/dist-packages (from roboflow) (1.4.4)\n",
            "Requirement already satisfied: matplotlib in /usr/local/lib/python3.10/dist-packages (from roboflow) (3.7.1)\n",
            "Requirement already satisfied: numpy>=1.18.5 in /usr/local/lib/python3.10/dist-packages (from roboflow) (1.22.4)\n",
            "Requirement already satisfied: opencv-python>=4.1.2 in /usr/local/lib/python3.10/dist-packages (from roboflow) (4.7.0.72)\n",
            "Requirement already satisfied: Pillow>=7.1.2 in /usr/local/lib/python3.10/dist-packages (from roboflow) (8.4.0)\n",
            "Requirement already satisfied: pyparsing==2.4.7 in /usr/local/lib/python3.10/dist-packages (from roboflow) (2.4.7)\n",
            "Requirement already satisfied: python-dateutil in /usr/local/lib/python3.10/dist-packages (from roboflow) (2.8.2)\n",
            "Requirement already satisfied: python-dotenv in /usr/local/lib/python3.10/dist-packages (from roboflow) (1.0.0)\n",
            "Requirement already satisfied: requests in /usr/local/lib/python3.10/dist-packages (from roboflow) (2.27.1)\n",
            "Requirement already satisfied: six in /usr/local/lib/python3.10/dist-packages (from roboflow) (1.16.0)\n",
            "Requirement already satisfied: urllib3>=1.26.6 in /usr/local/lib/python3.10/dist-packages (from roboflow) (1.26.15)\n",
            "Requirement already satisfied: wget in /usr/local/lib/python3.10/dist-packages (from roboflow) (3.2)\n",
            "Requirement already satisfied: tqdm>=4.41.0 in /usr/local/lib/python3.10/dist-packages (from roboflow) (4.65.0)\n",
            "Requirement already satisfied: PyYAML>=5.3.1 in /usr/local/lib/python3.10/dist-packages (from roboflow) (6.0)\n",
            "Requirement already satisfied: requests-toolbelt in /usr/local/lib/python3.10/dist-packages (from roboflow) (1.0.0)\n",
            "Requirement already satisfied: contourpy>=1.0.1 in /usr/local/lib/python3.10/dist-packages (from matplotlib->roboflow) (1.0.7)\n",
            "Requirement already satisfied: fonttools>=4.22.0 in /usr/local/lib/python3.10/dist-packages (from matplotlib->roboflow) (4.39.3)\n",
            "Requirement already satisfied: packaging>=20.0 in /usr/local/lib/python3.10/dist-packages (from matplotlib->roboflow) (23.1)\n",
            "Requirement already satisfied: charset-normalizer~=2.0.0 in /usr/local/lib/python3.10/dist-packages (from requests->roboflow) (2.0.12)\n",
            "loading Roboflow workspace...\n",
            "loading Roboflow project...\n",
            "Downloading Dataset Version Zip in Skin-Disease-1 to folder: 100% [53148252 / 53148252] bytes\n"
          ]
        },
        {
          "output_type": "stream",
          "name": "stderr",
          "text": [
            "Extracting Dataset Version Zip to Skin-Disease-1 in folder:: 100%|██████████| 2356/2356 [00:00<00:00, 2781.29it/s]\n"
          ]
        }
      ]
    },
    {
      "cell_type": "code",
      "source": [
        "model = YOLO(\"yolov8n-cls.pt\")\n"
      ],
      "metadata": {
        "id": "DYP7WS-wZebN"
      },
      "execution_count": 18,
      "outputs": []
    },
    {
      "cell_type": "code",
      "source": [
        "%cd {HOME}\n",
        "\n",
        "!yolo task=classify mode=train model=yolov8n-cls.pt data=\"/content/datasets/Skin-Disease-1\" epochs=20 imgsz=128\n",
        "     "
      ],
      "metadata": {
        "colab": {
          "base_uri": "https://localhost:8080/"
        },
        "id": "bT0BmGzyk3D-",
        "outputId": "cc6b1650-d6b9-427d-b4c7-a92eb6d04ff4"
      },
      "execution_count": 24,
      "outputs": [
        {
          "output_type": "stream",
          "name": "stdout",
          "text": [
            "/content\n",
            "Ultralytics YOLOv8.0.20 🚀 Python-3.10.12 torch-2.0.1+cu118 CUDA:0 (Tesla T4, 15102MiB)\n",
            "\u001b[34m\u001b[1myolo/engine/trainer: \u001b[0mtask=classify, mode=train, model=yolov8n-cls.yaml, data=/content/datasets/Skin-Disease-1, epochs=20, patience=50, batch=16, imgsz=128, save=True, cache=False, device=, workers=16, project=None, name=None, exist_ok=False, pretrained=False, optimizer=SGD, verbose=True, seed=0, deterministic=True, single_cls=False, image_weights=False, rect=False, cos_lr=False, close_mosaic=10, resume=False, overlap_mask=True, mask_ratio=4, dropout=0.0, val=True, save_json=False, save_hybrid=False, conf=None, iou=0.7, max_det=300, half=False, dnn=False, plots=True, source=None, show=False, save_txt=False, save_conf=False, save_crop=False, hide_labels=False, hide_conf=False, vid_stride=1, line_thickness=3, visualize=False, augment=False, agnostic_nms=False, classes=None, retina_masks=False, boxes=True, format=torchscript, keras=False, optimize=False, int8=False, dynamic=False, simplify=False, opset=None, workspace=4, nms=False, lr0=0.1, lrf=0.01, momentum=0.937, weight_decay=0.0001, warmup_epochs=0, warmup_momentum=0.8, warmup_bias_lr=0.1, box=7.5, cls=0.5, dfl=1.5, fl_gamma=0.0, label_smoothing=0.1, nbs=256, hsv_h=0.015, hsv_s=0.7, hsv_v=0.4, degrees=0.0, translate=0.1, scale=0.5, shear=0.0, perspective=0.0, flipud=0.0, fliplr=0.5, mosaic=1.0, mixup=0.0, copy_paste=0.0, cfg=None, v5loader=False, save_dir=runs/classify/train8\n",
            "2023-06-10 18:32:01.254708: W tensorflow/compiler/tf2tensorrt/utils/py_utils.cc:38] TF-TRT Warning: Could not find TensorRT\n",
            "Overriding model.yaml nc=1000 with nc=5\n",
            "\n",
            "                   from  n    params  module                                       arguments                     \n",
            "  0                  -1  1       464  ultralytics.nn.modules.Conv                  [3, 16, 3, 2]                 \n",
            "  1                  -1  1      4672  ultralytics.nn.modules.Conv                  [16, 32, 3, 2]                \n",
            "  2                  -1  1      7360  ultralytics.nn.modules.C2f                   [32, 32, 1, True]             \n",
            "  3                  -1  1     18560  ultralytics.nn.modules.Conv                  [32, 64, 3, 2]                \n",
            "  4                  -1  2     49664  ultralytics.nn.modules.C2f                   [64, 64, 2, True]             \n",
            "  5                  -1  1     73984  ultralytics.nn.modules.Conv                  [64, 128, 3, 2]               \n",
            "  6                  -1  2    197632  ultralytics.nn.modules.C2f                   [128, 128, 2, True]           \n",
            "  7                  -1  1    295424  ultralytics.nn.modules.Conv                  [128, 256, 3, 2]              \n",
            "  8                  -1  1    460288  ultralytics.nn.modules.C2f                   [256, 256, 1, True]           \n",
            "  9                  -1  1    336645  ultralytics.nn.modules.Classify              [256, 5]                      \n",
            "YOLOv8n-cls summary: 99 layers, 1444693 parameters, 1444693 gradients, 3.4 GFLOPs\n",
            "\u001b[34m\u001b[1moptimizer:\u001b[0m SGD(lr=0.1) with parameter groups 26 weight(decay=0.0), 27 weight(decay=0.0001), 27 bias\n",
            "\u001b[34m\u001b[1malbumentations: \u001b[0mRandomResizedCrop(p=1.0, height=128, width=128, scale=(0.08, 1.0), ratio=(0.75, 1.3333333333333333), interpolation=1), HorizontalFlip(p=0.5), ColorJitter(p=0.5, brightness=[0.6, 1.4], contrast=[0.6, 1.4], saturation=[0.6, 1.4], hue=[0, 0]), Normalize(p=1.0, mean=(0.485, 0.456, 0.406), std=(0.229, 0.224, 0.225), max_pixel_value=255.0), ToTensorV2(always_apply=True, p=1.0, transpose_mask=False)\n",
            "Image sizes 128 train, 128 val\n",
            "Using 2 dataloader workers\n",
            "Logging results to \u001b[1mruns/classify/train8\u001b[0m\n",
            "Starting training for 20 epochs...\n",
            "\n",
            "      Epoch    GPU_mem       loss  Instances       Size\n",
            "       1/20     0.294G     0.1171          8        128: 100% 128/128 [00:10<00:00, 12.24it/s]\n",
            "               classes   top1_acc   top5_acc: 100% 2/2 [00:00<00:00,  5.52it/s]\n",
            "                   all      0.263          1\n",
            "\n",
            "      Epoch    GPU_mem       loss  Instances       Size\n",
            "       2/20     0.294G     0.1258          8        128: 100% 128/128 [00:07<00:00, 18.18it/s]\n",
            "               classes   top1_acc   top5_acc: 100% 2/2 [00:00<00:00, 40.37it/s]\n",
            "                   all      0.232          1\n",
            "\n",
            "      Epoch    GPU_mem       loss  Instances       Size\n",
            "       3/20     0.294G    0.09981          8        128: 100% 128/128 [00:08<00:00, 14.59it/s]\n",
            "               classes   top1_acc   top5_acc: 100% 2/2 [00:00<00:00, 38.54it/s]\n",
            "                   all      0.283          1\n",
            "\n",
            "      Epoch    GPU_mem       loss  Instances       Size\n",
            "       4/20     0.294G    0.09628          8        128: 100% 128/128 [00:07<00:00, 16.57it/s]\n",
            "               classes   top1_acc   top5_acc: 100% 2/2 [00:00<00:00, 29.27it/s]\n",
            "                   all      0.354          1\n",
            "\n",
            "      Epoch    GPU_mem       loss  Instances       Size\n",
            "       5/20     0.294G    0.09627          8        128: 100% 128/128 [00:07<00:00, 16.80it/s]\n",
            "               classes   top1_acc   top5_acc: 100% 2/2 [00:00<00:00, 52.69it/s]\n",
            "                   all      0.364          1\n",
            "\n",
            "      Epoch    GPU_mem       loss  Instances       Size\n",
            "       6/20     0.294G    0.09622          8        128: 100% 128/128 [00:08<00:00, 14.99it/s]\n",
            "               classes   top1_acc   top5_acc: 100% 2/2 [00:00<00:00, 41.30it/s]\n",
            "                   all      0.364          1\n",
            "\n",
            "      Epoch    GPU_mem       loss  Instances       Size\n",
            "       7/20     0.294G     0.0942          8        128: 100% 128/128 [00:06<00:00, 19.80it/s]\n",
            "               classes   top1_acc   top5_acc: 100% 2/2 [00:00<00:00, 68.76it/s]\n",
            "                   all      0.323          1\n",
            "\n",
            "      Epoch    GPU_mem       loss  Instances       Size\n",
            "       8/20     0.294G    0.09506          8        128: 100% 128/128 [00:08<00:00, 14.63it/s]\n",
            "               classes   top1_acc   top5_acc: 100% 2/2 [00:00<00:00, 29.25it/s]\n",
            "                   all      0.364          1\n",
            "\n",
            "      Epoch    GPU_mem       loss  Instances       Size\n",
            "       9/20     0.294G    0.09472          8        128: 100% 128/128 [00:06<00:00, 18.82it/s]\n",
            "               classes   top1_acc   top5_acc: 100% 2/2 [00:00<00:00, 35.99it/s]\n",
            "                   all      0.323          1\n",
            "\n",
            "      Epoch    GPU_mem       loss  Instances       Size\n",
            "      10/20     0.294G    0.09424          8        128: 100% 128/128 [00:10<00:00, 12.05it/s]\n",
            "               classes   top1_acc   top5_acc: 100% 2/2 [00:00<00:00, 28.94it/s]\n",
            "                   all      0.313          1\n",
            "Closing dataloader mosaic\n",
            "\n",
            "      Epoch    GPU_mem       loss  Instances       Size\n",
            "      11/20     0.294G    0.09437          8        128: 100% 128/128 [00:06<00:00, 19.54it/s]\n",
            "               classes   top1_acc   top5_acc: 100% 2/2 [00:00<00:00, 31.09it/s]\n",
            "                   all      0.374          1\n",
            "\n",
            "      Epoch    GPU_mem       loss  Instances       Size\n",
            "      12/20     0.294G    0.09322          8        128: 100% 128/128 [00:08<00:00, 15.43it/s]\n",
            "               classes   top1_acc   top5_acc: 100% 2/2 [00:00<00:00, 30.01it/s]\n",
            "                   all      0.343          1\n",
            "\n",
            "      Epoch    GPU_mem       loss  Instances       Size\n",
            "      13/20     0.294G    0.09259          8        128: 100% 128/128 [00:07<00:00, 17.59it/s]\n",
            "               classes   top1_acc   top5_acc: 100% 2/2 [00:00<00:00, 25.88it/s]\n",
            "                   all      0.333          1\n",
            "\n",
            "      Epoch    GPU_mem       loss  Instances       Size\n",
            "      14/20     0.294G     0.0931          8        128: 100% 128/128 [00:07<00:00, 17.11it/s]\n",
            "               classes   top1_acc   top5_acc: 100% 2/2 [00:00<00:00, 34.61it/s]\n",
            "                   all      0.333          1\n",
            "\n",
            "      Epoch    GPU_mem       loss  Instances       Size\n",
            "      15/20     0.294G    0.09211          8        128: 100% 128/128 [00:08<00:00, 15.89it/s]\n",
            "               classes   top1_acc   top5_acc: 100% 2/2 [00:00<00:00, 27.47it/s]\n",
            "                   all      0.354          1\n",
            "\n",
            "      Epoch    GPU_mem       loss  Instances       Size\n",
            "      16/20     0.294G    0.09086          8        128: 100% 128/128 [00:06<00:00, 19.03it/s]\n",
            "               classes   top1_acc   top5_acc: 100% 2/2 [00:00<00:00, 31.81it/s]\n",
            "                   all      0.384          1\n",
            "\n",
            "      Epoch    GPU_mem       loss  Instances       Size\n",
            "      17/20     0.294G    0.09087          8        128: 100% 128/128 [00:09<00:00, 13.93it/s]\n",
            "               classes   top1_acc   top5_acc: 100% 2/2 [00:00<00:00, 40.01it/s]\n",
            "                   all      0.343          1\n",
            "\n",
            "      Epoch    GPU_mem       loss  Instances       Size\n",
            "      18/20     0.294G    0.09147          8        128: 100% 128/128 [00:06<00:00, 19.59it/s]\n",
            "               classes   top1_acc   top5_acc: 100% 2/2 [00:00<00:00, 35.07it/s]\n",
            "                   all      0.354          1\n",
            "\n",
            "      Epoch    GPU_mem       loss  Instances       Size\n",
            "      19/20     0.294G    0.08874          8        128: 100% 128/128 [00:08<00:00, 14.59it/s]\n",
            "               classes   top1_acc   top5_acc: 100% 2/2 [00:00<00:00, 41.59it/s]\n",
            "                   all      0.343          1\n",
            "\n",
            "      Epoch    GPU_mem       loss  Instances       Size\n",
            "      20/20     0.294G    0.08895          8        128: 100% 128/128 [00:06<00:00, 19.45it/s]\n",
            "               classes   top1_acc   top5_acc: 100% 2/2 [00:00<00:00, 50.83it/s]\n",
            "                   all      0.364          1\n",
            "\n",
            "20 epochs completed in 0.047 hours.\n",
            "Optimizer stripped from runs/classify/train8/weights/last.pt, 3.0MB\n",
            "Optimizer stripped from runs/classify/train8/weights/best.pt, 3.0MB\n",
            "Results saved to \u001b[1mruns/classify/train8\u001b[0m\n"
          ]
        }
      ]
    },
    {
      "cell_type": "code",
      "source": [
        "!ls -la {HOME}/runs/classify/train8/"
      ],
      "metadata": {
        "colab": {
          "base_uri": "https://localhost:8080/"
        },
        "id": "HMeJwtvXqlRk",
        "outputId": "8066fc30-008b-4b48-deff-9325eab47936"
      },
      "execution_count": 33,
      "outputs": [
        {
          "output_type": "stream",
          "name": "stdout",
          "text": [
            "total 148\n",
            "drwxr-xr-x  3 root root   4096 Jun 10 18:32 .\n",
            "drwxr-xr-x 12 root root   4096 Jun 10 18:45 ..\n",
            "-rw-r--r--  1 root root   1330 Jun 10 18:31 args.yaml\n",
            "-rw-r--r--  1 root root 126248 Jun 10 18:34 events.out.tfevents.1686421922.e6d085ece891.24885.0\n",
            "-rw-r--r--  1 root root   4032 Jun 10 18:34 results.csv\n",
            "drwxr-xr-x  2 root root   4096 Jun 10 18:32 weights\n"
          ]
        }
      ]
    },
    {
      "cell_type": "code",
      "source": [
        "!cat {HOME}/runs/classify/train8/results.csv | head -10"
      ],
      "metadata": {
        "colab": {
          "base_uri": "https://localhost:8080/"
        },
        "id": "CUuyr17xqq-8",
        "outputId": "9058bbb7-29a8-47ae-c0be-a74be188e51a"
      },
      "execution_count": 34,
      "outputs": [
        {
          "output_type": "stream",
          "name": "stdout",
          "text": [
            "                  epoch,             train/loss,  metrics/accuracy_top1,  metrics/accuracy_top5,               val/loss,                 lr/pg0,                 lr/pg1,                 lr/pg2\n",
            "                      0,                0.11706,                0.26263,                      1,                 24.445,                    0.1,                    0.1,                    0.1\n",
            "                      1,                0.12579,                0.23232,                      1,                  0.526,                    0.1,                    0.1,                    0.1\n",
            "                      2,                0.09981,                0.28283,                      1,                0.32007,                0.09505,                0.09505,                0.09505\n",
            "                      3,                0.09628,                0.35354,                      1,                0.29626,                 0.0901,                 0.0901,                 0.0901\n",
            "                      4,                0.09627,                0.36364,                      1,                 0.2926,                0.08515,                0.08515,                0.08515\n",
            "                      5,                0.09622,                0.36364,                      1,                0.28717,                 0.0802,                 0.0802,                 0.0802\n",
            "                      6,                 0.0942,                0.32323,                      1,                0.28888,                0.07525,                0.07525,                0.07525\n",
            "                      7,                0.09506,                0.36364,                      1,                0.28827,                 0.0703,                 0.0703,                 0.0703\n",
            "                      8,                0.09472,                0.32323,                      1,                0.28851,                0.06535,                0.06535,                0.06535\n"
          ]
        }
      ]
    },
    {
      "cell_type": "markdown",
      "source": [
        "**Validation**"
      ],
      "metadata": {
        "id": "XAfNWNnPmSH3"
      }
    },
    {
      "cell_type": "code",
      "source": [
        "\n",
        "%cd {HOME}\n",
        "\n",
        "!yolo task=classify mode=val model={HOME}/runs/classify/train8/weights/best.pt data={dataset.location}\n",
        "     "
      ],
      "metadata": {
        "colab": {
          "base_uri": "https://localhost:8080/"
        },
        "id": "2CcaPxCWnpPz",
        "outputId": "54885699-8e05-4a49-96b2-c0818fe0a518"
      },
      "execution_count": 47,
      "outputs": [
        {
          "output_type": "stream",
          "name": "stdout",
          "text": [
            "/content\n",
            "2023-06-10 19:19:10.583558: W tensorflow/compiler/tf2tensorrt/utils/py_utils.cc:38] TF-TRT Warning: Could not find TensorRT\n",
            "Ultralytics YOLOv8.0.20 🚀 Python-3.10.12 torch-2.0.1+cu118 CUDA:0 (Tesla T4, 15102MiB)\n",
            "YOLOv8n-cls summary (fused): 73 layers, 1441285 parameters, 0 gradients, 3.3 GFLOPs\n",
            "\u001b[34m\u001b[1malbumentations: \u001b[0mRandomResizedCrop(p=1.0, height=128, width=128, scale=(0.08, 1.0), ratio=(0.75, 1.3333333333333333), interpolation=1), HorizontalFlip(p=0.5), ColorJitter(p=0.5, brightness=[0.6, 1.4], contrast=[0.6, 1.4], saturation=[0.6, 1.4], hue=[0, 0]), Normalize(p=1.0, mean=(0.485, 0.456, 0.406), std=(0.229, 0.224, 0.225), max_pixel_value=255.0), ToTensorV2(always_apply=True, p=1.0, transpose_mask=False)\n",
            "               classes   top1_acc   top5_acc: 100% 7/7 [00:00<00:00, 19.16it/s]\n",
            "                   all      0.333          1\n",
            "Speed: 0.0ms pre-process, 2.1ms inference, 0.0ms loss, 0.0ms post-process per image\n"
          ]
        }
      ]
    },
    {
      "cell_type": "markdown",
      "source": [
        "**Inference with Custom Model**"
      ],
      "metadata": {
        "id": "SiaURGpMofFn"
      }
    },
    {
      "cell_type": "code",
      "source": [
        "\n",
        "%cd {HOME}\n",
        "!yolo task=classify mode=predict model={HOME}/runs/classify/train8/weights/best.pt conf=0.25 source=\"/content/datasets/Skin-Disease-1/test/Warts\"\n"
      ],
      "metadata": {
        "colab": {
          "base_uri": "https://localhost:8080/"
        },
        "id": "ja-AecrnoQUf",
        "outputId": "47b21d17-0af2-4dc0-f6e9-924ff8ab02ce"
      },
      "execution_count": 61,
      "outputs": [
        {
          "output_type": "stream",
          "name": "stdout",
          "text": [
            "/content\n",
            "2023-06-10 19:36:50.026103: W tensorflow/compiler/tf2tensorrt/utils/py_utils.cc:38] TF-TRT Warning: Could not find TensorRT\n",
            "Ultralytics YOLOv8.0.20 🚀 Python-3.10.12 torch-2.0.1+cu118 CUDA:0 (Tesla T4, 15102MiB)\n",
            "YOLOv8n-cls summary (fused): 73 layers, 1441285 parameters, 0 gradients, 3.3 GFLOPs\n",
            "image 1/25 /content/datasets/Skin-Disease-1/test/Warts/black-heel-2_jpg.rf.61b6df28512eca34809f5f5c3bf93993.jpg: 128x128 Keratosis Pilaris 0.28, Warts 0.19, Psoriasis 0.19, Acne 0.17, Eczema 0.17, 4.3ms\n",
            "image 2/25 /content/datasets/Skin-Disease-1/test/Warts/black-heel-3_jpg.rf.1f93f565c6c708aba00a485fd50d247d.jpg: 128x128 Keratosis Pilaris 0.25, Warts 0.20, Psoriasis 0.19, Acne 0.18, Eczema 0.17, 4.2ms\n",
            "image 3/25 /content/datasets/Skin-Disease-1/test/Warts/black-heel-8_jpg.rf.4787143733bd8aa490a14144fb2d3199.jpg: 128x128 Eczema 0.22, Warts 0.20, Psoriasis 0.20, Acne 0.20, Keratosis Pilaris 0.18, 2.7ms\n",
            "image 4/25 /content/datasets/Skin-Disease-1/test/Warts/corns-16_jpg.rf.53a9855cbde5a8e0bd78e23ef5e5188e.jpg: 128x128 Psoriasis 0.22, Acne 0.22, Warts 0.20, Eczema 0.19, Keratosis Pilaris 0.17, 2.6ms\n",
            "image 5/25 /content/datasets/Skin-Disease-1/test/Warts/corns-24_jpg.rf.5f06b602144317d7c159a8ebd7de9823.jpg: 128x128 Eczema 0.22, Acne 0.21, Psoriasis 0.20, Warts 0.19, Keratosis Pilaris 0.17, 2.4ms\n",
            "image 6/25 /content/datasets/Skin-Disease-1/test/Warts/eczema-herpeticum-11_jpg.rf.96f9eb94f1625802ed7f6b56f4037d5c.jpg: 128x128 Eczema 0.24, Warts 0.20, Acne 0.20, Psoriasis 0.19, Keratosis Pilaris 0.18, 2.6ms\n",
            "image 7/25 /content/datasets/Skin-Disease-1/test/Warts/eczema-herpeticum-30_jpg.rf.21ee3f5775b04b56f61c219652fac6eb.jpg: 128x128 Keratosis Pilaris 0.23, Psoriasis 0.20, Warts 0.20, Acne 0.19, Eczema 0.17, 2.4ms\n",
            "image 8/25 /content/datasets/Skin-Disease-1/test/Warts/eczema-herpeticum-35_jpg.rf.edaf1cb6b03edfb2acd323c816e38831.jpg: 128x128 Eczema 0.23, Psoriasis 0.20, Acne 0.20, Warts 0.20, Keratosis Pilaris 0.18, 2.7ms\n",
            "image 9/25 /content/datasets/Skin-Disease-1/test/Warts/eczema-herpeticum-38_jpg.rf.4c4920a06162a91cd7c4bda6afddd6e6.jpg: 128x128 Eczema 0.32, Warts 0.18, Acne 0.17, Psoriasis 0.17, Keratosis Pilaris 0.16, 2.3ms\n",
            "image 10/25 /content/datasets/Skin-Disease-1/test/Warts/eczema-herpeticum-3_jpg.rf.aca5c736f37f61368a47aaf310b3f07c.jpg: 128x128 Eczema 0.26, Warts 0.20, Psoriasis 0.18, Acne 0.18, Keratosis Pilaris 0.18, 2.1ms\n",
            "image 11/25 /content/datasets/Skin-Disease-1/test/Warts/eczema-herpeticum-43_jpg.rf.90d1a9f53d872ff98133191d35459732.jpg: 128x128 Eczema 0.32, Warts 0.18, Psoriasis 0.17, Acne 0.17, Keratosis Pilaris 0.16, 2.3ms\n",
            "image 12/25 /content/datasets/Skin-Disease-1/test/Warts/eczema-herpeticum-44_jpg.rf.def0d2f103bdcc2237ee7461aec2f2ec.jpg: 128x128 Eczema 0.31, Warts 0.18, Acne 0.18, Psoriasis 0.17, Keratosis Pilaris 0.16, 2.1ms\n",
            "image 13/25 /content/datasets/Skin-Disease-1/test/Warts/eczema-herpeticum-4_jpg.rf.8dda20df28d090b3e1a88ce8b798ba5f.jpg: 128x128 Eczema 0.27, Warts 0.20, Psoriasis 0.18, Acne 0.17, Keratosis Pilaris 0.17, 2.1ms\n",
            "image 14/25 /content/datasets/Skin-Disease-1/test/Warts/eczema-herpeticum-50_jpg.rf.b04ea974bff2e03aa6a7800ec6a704d8.jpg: 128x128 Acne 0.26, Eczema 0.20, Psoriasis 0.19, Warts 0.18, Keratosis Pilaris 0.17, 2.3ms\n",
            "image 15/25 /content/datasets/Skin-Disease-1/test/Warts/eczema-herpeticum-61_jpg.rf.acc4108ebb81e72dabd69b183d0bda19.jpg: 128x128 Acne 0.23, Psoriasis 0.21, Eczema 0.20, Warts 0.19, Keratosis Pilaris 0.17, 2.1ms\n",
            "image 16/25 /content/datasets/Skin-Disease-1/test/Warts/eczema-herpeticum-9_jpg.rf.38d07e020d6ad692a7946987f1ed2391.jpg: 128x128 Eczema 0.21, Acne 0.20, Warts 0.20, Keratosis Pilaris 0.20, Psoriasis 0.19, 2.3ms\n",
            "image 17/25 /content/datasets/Skin-Disease-1/test/Warts/hand-foot-mouth-18_jpg.rf.1d14e8d4c09d8d3810564e7c454a443f.jpg: 128x128 Keratosis Pilaris 0.22, Psoriasis 0.21, Acne 0.20, Warts 0.20, Eczema 0.18, 2.0ms\n",
            "image 18/25 /content/datasets/Skin-Disease-1/test/Warts/herpes-buttocks-21_jpg.rf.8a0d11133b0d1c38935d9528f6a3fc96.jpg: 128x128 Keratosis Pilaris 0.22, Psoriasis 0.21, Warts 0.20, Acne 0.20, Eczema 0.18, 2.3ms\n",
            "image 19/25 /content/datasets/Skin-Disease-1/test/Warts/herpes-buttocks-22_jpg.rf.a7251045d4a53c66cf97064b5d5a155d.jpg: 128x128 Acne 0.23, Psoriasis 0.22, Warts 0.19, Keratosis Pilaris 0.19, Eczema 0.17, 2.1ms\n",
            "image 20/25 /content/datasets/Skin-Disease-1/test/Warts/herpes-cutaneous-101_jpg.rf.3193f0e5bbebd3f124f24a53daae6f06.jpg: 128x128 Psoriasis 0.22, Acne 0.21, Keratosis Pilaris 0.20, Warts 0.20, Eczema 0.18, 2.4ms\n",
            "image 21/25 /content/datasets/Skin-Disease-1/test/Warts/herpes-cutaneous-104_jpg.rf.57cd86bd4b2766656b9d599e57288325.jpg: 128x128 Eczema 0.29, Warts 0.19, Psoriasis 0.18, Acne 0.17, Keratosis Pilaris 0.16, 2.3ms\n",
            "image 22/25 /content/datasets/Skin-Disease-1/test/Warts/herpes-cutaneous-117_jpg.rf.6df7a6a6c7bc5d46e6d7ba5897b5d834.jpg: 128x128 Eczema 0.26, Warts 0.20, Psoriasis 0.19, Acne 0.18, Keratosis Pilaris 0.17, 2.1ms\n",
            "image 23/25 /content/datasets/Skin-Disease-1/test/Warts/herpes-cutaneous-29_jpg.rf.bdab5b98d3c4b7e58d28202e76c8edb1.jpg: 128x128 Acne 0.20, Psoriasis 0.20, Eczema 0.20, Warts 0.20, Keratosis Pilaris 0.19, 2.2ms\n",
            "image 24/25 /content/datasets/Skin-Disease-1/test/Warts/herpes-cutaneous-35_jpg.rf.a03739224a66f0be699bfc5b91152dd8.jpg: 128x128 Eczema 0.30, Warts 0.19, Psoriasis 0.18, Acne 0.17, Keratosis Pilaris 0.16, 2.4ms\n",
            "image 25/25 /content/datasets/Skin-Disease-1/test/Warts/herpes-cutaneous-47_jpg.rf.5fbc0083a58efe61eac73a10f1b74cc1.jpg: 128x128 Eczema 0.23, Warts 0.20, Psoriasis 0.20, Acne 0.19, Keratosis Pilaris 0.18, 2.5ms\n",
            "Speed: 0.1ms pre-process, 2.5ms inference, 0.4ms postprocess per image at shape (1, 3, 128, 128)\n"
          ]
        }
      ]
    },
    {
      "cell_type": "code",
      "source": [
        "model.predict(\"/content/datasets/Skin-Disease-1/test/Warts\", save=True, imgsz=320, conf=0.5)"
      ],
      "metadata": {
        "colab": {
          "base_uri": "https://localhost:8080/"
        },
        "id": "Xw2C7uvfxYq0",
        "outputId": "0d9c7bab-ac15-406c-e6b5-72abf9825aae"
      },
      "execution_count": 63,
      "outputs": [
        {
          "output_type": "stream",
          "name": "stderr",
          "text": [
            "Results saved to \u001b[1mruns/classify/predict\u001b[0m\n"
          ]
        },
        {
          "output_type": "execute_result",
          "data": {
            "text/plain": [
              "[tensor([0.18243, 0.19088, 0.22126, 0.21165, 0.19378], device='cuda:0'),\n",
              " tensor([0.18408, 0.19173, 0.21461, 0.21557, 0.19401], device='cuda:0'),\n",
              " tensor([0.21065, 0.22148, 0.17127, 0.18260, 0.21400], device='cuda:0'),\n",
              " tensor([0.21422, 0.17796, 0.18024, 0.20296, 0.22463], device='cuda:0'),\n",
              " tensor([0.21045, 0.19468, 0.18363, 0.19974, 0.21150], device='cuda:0'),\n",
              " tensor([0.17677, 0.25012, 0.17468, 0.19766, 0.20077], device='cuda:0'),\n",
              " tensor([0.18069, 0.16969, 0.24993, 0.21315, 0.18654], device='cuda:0'),\n",
              " tensor([0.17932, 0.26498, 0.17383, 0.19594, 0.18593], device='cuda:0'),\n",
              " tensor([0.18165, 0.28518, 0.16256, 0.17885, 0.19177], device='cuda:0'),\n",
              " tensor([0.16773, 0.29142, 0.17334, 0.17909, 0.18842], device='cuda:0'),\n",
              " tensor([0.23731, 0.22677, 0.16457, 0.17367, 0.19767], device='cuda:0'),\n",
              " tensor([0.21573, 0.23875, 0.16406, 0.18311, 0.19836], device='cuda:0'),\n",
              " tensor([0.16721, 0.30249, 0.16862, 0.17305, 0.18862], device='cuda:0'),\n",
              " tensor([0.35584, 0.15959, 0.15684, 0.15994, 0.16779], device='cuda:0'),\n",
              " tensor([0.20379, 0.20325, 0.17985, 0.21750, 0.19562], device='cuda:0'),\n",
              " tensor([0.31057, 0.16677, 0.17122, 0.16304, 0.18841], device='cuda:0'),\n",
              " tensor([0.22132, 0.17239, 0.20649, 0.18529, 0.21451], device='cuda:0'),\n",
              " tensor([0.20930, 0.17516, 0.20945, 0.20238, 0.20371], device='cuda:0'),\n",
              " tensor([0.24121, 0.16964, 0.18672, 0.19667, 0.20575], device='cuda:0'),\n",
              " tensor([0.21569, 0.17419, 0.20665, 0.19460, 0.20887], device='cuda:0'),\n",
              " tensor([0.21707, 0.20500, 0.17817, 0.19042, 0.20933], device='cuda:0'),\n",
              " tensor([0.17543, 0.26790, 0.17392, 0.18842, 0.19433], device='cuda:0'),\n",
              " tensor([0.21039, 0.16768, 0.25139, 0.18127, 0.18926], device='cuda:0'),\n",
              " tensor([0.17286, 0.25893, 0.16303, 0.18633, 0.21885], device='cuda:0'),\n",
              " tensor([0.22409, 0.20321, 0.17268, 0.19085, 0.20917], device='cuda:0')]"
            ]
          },
          "metadata": {},
          "execution_count": 63
        }
      ]
    },
    {
      "cell_type": "code",
      "source": [
        "\n",
        "import glob\n",
        "from IPython.display import Image, display\n",
        "\n",
        "for image_path in glob.glob(f'{HOME}/runs/classify/predict/*.jpg')[:1]:\n",
        "      display(Image(filename=image_path, width=600))\n",
        "      print(\"\\n\")"
      ],
      "metadata": {
        "colab": {
          "base_uri": "https://localhost:8080/",
          "height": 653
        },
        "id": "kSBRAg22lOyv",
        "outputId": "ec8fd91d-d33e-4c0e-b370-3e9ea69a6795"
      },
      "execution_count": 64,
      "outputs": [
        {
          "output_type": "display_data",
          "data": {
            "image/jpeg": "[encoded data removed]",
            "text/plain": [
              "<IPython.core.display.Image object>"
            ]
          },
          "metadata": {
            "image/jpeg": {
              "width": 600
            }
          }
        },
        {
          "output_type": "stream",
          "name": "stdout",
          "text": [
            "\n",
            "\n"
          ]
        }
      ]
    }
  ]
}